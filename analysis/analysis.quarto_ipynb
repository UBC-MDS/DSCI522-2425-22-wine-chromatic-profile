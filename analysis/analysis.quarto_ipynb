{
  "cells": [
    {
      "cell_type": "markdown",
      "metadata": {},
      "source": [
        "---\n",
        "title: Wine Chromatic Profile Prediction Project\n",
        "author: \"Adrian Leung, Daria Khon, Farhan Bin Faisal & Zhiwei Zhang\"\n",
        "format: \n",
        "  html:\n",
        "    toc: true\n",
        "    embed-resources: true\n",
        "  pdf:\n",
        "    toc: true\n",
        "    fig-pos: \"H\"\n",
        "editor: source\n",
        "---\n",
        "\n",
        "\n",
        "### Group 22\n",
        "\n",
        "\n",
        "___\n",
        "### INTRODUCTION\n",
        "___\n",
        "\n",
        "This project seeks to answer the following question:   \n",
        "**\"Can we predict the color of wine using its physiochemical properties, such as acidity, sugar content, and alcohol level?\"** \n",
        "\n",
        "To answer this question, we are using a [data set](https://archive.ics.uci.edu/dataset/186/wine+quality) from the Vinho Verde region in Portugal . These datasets, publicly available through the UCI Machine Learning Repository, include 11 physiochemical attributes for each wine sample—such as fixed acidity, volatile acidity, pH, and alcohol content—along with a sensory-based quality score ranging from 0 to 10. The red wine dataset contains 1,599 samples, while the white wine dataset includes 4,898 samples, enabling a comprehensive analysis across different types of wine.\n",
        "\n",
        "The ability to accurately classify wine color using machine learning could offer several advantages. For instance, winemakers and researchers could efficiently analyze large datasets, identify trends, and optimize production processes. Furthermore, consumers or wine retailers might use such tools to assess or verify wine characteristics without requiring advanced laboratory equipment. By developing a robust classification model, we aim to contribute to the wine industry’s growing adoption of data-driven methods, enhancing efficiency and accuracy in identifying and categorizing wines. Ultimately, this approach could lead to scalable, reproducible, and cost-effective methods for wine analysis.\n",
        "\n",
        "___  \n",
        "### METHODS\n",
        "___\n",
        "\n",
        "The code for this analysis and report is available on GitHub: <https://github.com/UBC-MDS/DSCI522-2425-22-wine-quality.git>.\n",
        "\n",
        "The dataset was initially loaded into a single dataframe, and several data validation checks were performed to check the quality of the dataset. An exploratory data analysis was conducted afterwards to understand the distribution of features. This included checking for class imbalance in the target variable, examining collinearity between input features, and identifying the types of features present in the dataset. This analysis informed decisions regarding feature encoding in subsequent steps.\n"
      ],
      "id": "0569dc6d"
    },
    {
      "cell_type": "code",
      "metadata": {},
      "source": [
        "import os\n",
        "import pandas as pd \n",
        "import numpy as np \n",
        "import pandera as pa\n",
        "import altair as alt\n",
        "import altair_ally as aly\n",
        "from ucimlrepo import fetch_ucirepo \n",
        "from sklearn.model_selection import train_test_split"
      ],
      "id": "9101c7ed",
      "execution_count": null,
      "outputs": []
    },
    {
      "cell_type": "code",
      "metadata": {},
      "source": [
        "# loading data \n",
        "wine_quality = fetch_ucirepo(id=186) \n",
        "wine = pd.DataFrame(wine_quality.data.original) \n",
        "wine.to_csv(\"../data/wine.csv\", index=False)\n",
        "wine = pd.read_csv(\"../data/wine.csv\")"
      ],
      "id": "13b5fad8",
      "execution_count": null,
      "outputs": []
    },
    {
      "cell_type": "markdown",
      "metadata": {},
      "source": [
        "### Data Validation Checks Before Data Splitting\n",
        "\n",
        "This section is to perform validation checks on the dataset that preceed the data analysis (especially before data splitting). This is to ensure the quality of the dataset is on par with our expectations and sufficient enough for a robust, high-quality analysis.  \n",
        "\n",
        "#### 1. Check Data File Format \n",
        "The following checks whether the file exists in `/data` and the format of the data file in `/data` is in the correct `.csv` format.\n"
      ],
      "id": "e0dbd907"
    },
    {
      "cell_type": "code",
      "metadata": {},
      "source": [
        "# input file path\n",
        "file_name = 'wine.csv'\n",
        "data_path = '../data/'\n",
        "path = data_path + file_name\n",
        "\n",
        "if not os.path.exists(path):\n",
        "    raise FileNotFoundError(f\"{file_name} does not exist inside the '/data' directory\")  \n",
        "if not path.endswith('.csv'):\n",
        "    raise ValueError('File extension is not in .csv format')\n",
        "else:\n",
        "    print('Test passed!')"
      ],
      "id": "032c0d38",
      "execution_count": null,
      "outputs": []
    },
    {
      "cell_type": "markdown",
      "metadata": {},
      "source": [
        "#### 2. Check Correct Column Names\n",
        "The following checks whether the column names in the data file match the expected column names and miss any expected columns names.\n"
      ],
      "id": "25a92c7d"
    },
    {
      "cell_type": "code",
      "metadata": {},
      "source": [
        "correct_columns = {\n",
        "    'fixed_acidity', 'volatile_acidity', 'citric_acid', 'residual_sugar', 'chlorides', \n",
        "    'free_sulfur_dioxide', 'total_sulfur_dioxide', 'density', 'pH', 'sulphates', \n",
        "    'alcohol', 'quality', 'color'\n",
        "}\n",
        "\n",
        "extracted_columns = set(wine.columns)\n",
        "\n",
        "if extracted_columns != correct_columns:\n",
        "    wrong_columns = extracted_columns.difference(correct_columns)\n",
        "    missing_columns = correct_columns.difference(extracted_columns)\n",
        "    if (len(wrong_columns) > 0) & (len(missing_columns) > 0):\n",
        "        raise ValueError(f\"Unexpected column names: {list(wrong_columns)} and missing column names: {list(missing_columns)}\")\n",
        "    elif len(wrong_columns) > 0:\n",
        "        raise ValueError(f\"Unexpected column names: {list(wrong_columns)}\")\n",
        "    elif len(missing_columns) > 0:\n",
        "        raise ValueError(f\"Missing column names: {list(missing_columns)}\")\n",
        "else:\n",
        "    print('Test passed!')"
      ],
      "id": "9c1908fc",
      "execution_count": null,
      "outputs": []
    },
    {
      "cell_type": "markdown",
      "metadata": {},
      "source": [
        "#### 3. No Empty Observations\n",
        "The following checks if there is any empty rows in the dataframe.\n"
      ],
      "id": "6387cf62"
    },
    {
      "cell_type": "code",
      "metadata": {},
      "source": [
        "schema = pa.DataFrameSchema(\n",
        "    checks = [\n",
        "        pa.Check(lambda df: ~(df.isna().all(axis=1)).any(), error = \"Empty rows found.\")\n",
        "    ]\n",
        ")\n",
        "try:\n",
        "    schema.validate(wine, lazy=True)\n",
        "    print(\"Test passed!\")\n",
        "except pa.errors.SchemaErrors as e:\n",
        "    print(\"Test failed:\", e)"
      ],
      "id": "24130874",
      "execution_count": null,
      "outputs": []
    },
    {
      "cell_type": "markdown",
      "metadata": {},
      "source": [
        "#### 4. Check Missingness\n",
        "The following checks if the number of missingness (i.e. NaN) for each column is higher than a pre-defined threshold, 5% of total observations.\n"
      ],
      "id": "95e29615"
    },
    {
      "cell_type": "code",
      "metadata": {},
      "source": [
        "schema = pa.DataFrameSchema(\n",
        "    {\n",
        "        \"fixed_acidity\": pa.Column(float, \n",
        "                                   pa.Check(lambda s: s.isna().mean() <= 0.05, \n",
        "                                            element_wise = False, \n",
        "                                            error = \"Too many null values in 'fixed_acidity' column.\"\n",
        "                                           ), nullable=True),\n",
        "        \"volatile_acidity\": pa.Column(float, \n",
        "                                   pa.Check(lambda s: s.isna().mean() <= 0.05, \n",
        "                                            element_wise = False, \n",
        "                                            error = \"Too many null values in 'volatile_acidity' column.\"\n",
        "                                           ), nullable=True), \n",
        "        \"citric_acid\": pa.Column(float, \n",
        "                                   pa.Check(lambda s: s.isna().mean() <= 0.05, \n",
        "                                            element_wise = False, \n",
        "                                            error = \"Too many null values in 'citric_acid' column.\"\n",
        "                                           ), nullable=True),\n",
        "        \"residual_sugar\": pa.Column(float, \n",
        "                                   pa.Check(lambda s: s.isna().mean() <= 0.05, \n",
        "                                            element_wise = False, \n",
        "                                            error = \"Too many null values in 'residual_sugar' column.\"\n",
        "                                           ), nullable=True),\n",
        "        \"chlorides\": pa.Column(float, \n",
        "                                   pa.Check(lambda s: s.isna().mean() <= 0.05, \n",
        "                                            element_wise = False, \n",
        "                                            error = \"Too many null values in 'chlorides' column.\"\n",
        "                                           ), nullable=True),\n",
        "        \"free_sulfur_dioxide\": pa.Column(float, \n",
        "                                   pa.Check(lambda s: s.isna().mean() <= 0.05, \n",
        "                                            element_wise = False, \n",
        "                                            error = \"Too many null values in 'free_sulfur_dioxide' column.\"\n",
        "                                           ), nullable=True),\n",
        "        \"total_sulfur_dioxide\": pa.Column(float, \n",
        "                                   pa.Check(lambda s: s.isna().mean() <= 0.05, \n",
        "                                            element_wise = False, \n",
        "                                            error = \"Too many null values in 'total_sulfur_dioxide' column.\"\n",
        "                                           ), nullable=True),\n",
        "        \"density\": pa.Column(float, \n",
        "                                   pa.Check(lambda s: s.isna().mean() <= 0.05, \n",
        "                                            element_wise = False, \n",
        "                                            error = \"Too many null values in 'density' column.\"\n",
        "                                           ), nullable=True),\n",
        "        \"pH\": pa.Column(float, \n",
        "                                   pa.Check(lambda s: s.isna().mean() <= 0.05, \n",
        "                                            element_wise = False, \n",
        "                                            error = \"Too many null values in 'pH' column.\"\n",
        "                                           ), nullable=True),\n",
        "        \"sulphates\": pa.Column(float, \n",
        "                                   pa.Check(lambda s: s.isna().mean() <= 0.05, \n",
        "                                            element_wise = False, \n",
        "                                            error = \"Too many null values in 'sulphates' column.\"\n",
        "                                           ), nullable=True),\n",
        "        \"alcohol\": pa.Column(float, \n",
        "                                   pa.Check(lambda s: s.isna().mean() <= 0.05, \n",
        "                                            element_wise = False, \n",
        "                                            error = \"Too many null values in 'alcohol' column.\"\n",
        "                                           ), nullable=True),\n",
        "        \"quality\": pa.Column(int, \n",
        "                                   pa.Check(lambda s: s.isna().mean() <= 0.05, \n",
        "                                            element_wise = False, \n",
        "                                            error = \"Too many null values in 'quality' column.\"\n",
        "                                           ), nullable=True),\n",
        "        \"color\": pa.Column(str, \n",
        "                                   pa.Check(lambda s: s.isna().mean() <= 0.05, \n",
        "                                            element_wise = False, \n",
        "                                            error = \"Too many null values in 'color' column.\"\n",
        "                                           ), nullable=True),\n",
        "    }\n",
        ")\n",
        "try:\n",
        "    schema.validate(wine, lazy=True)\n",
        "    print(\"Test passed!\")\n",
        "except pa.errors.SchemaErrors as e:\n",
        "    print(\"Test failed:\", e)"
      ],
      "id": "f530f040",
      "execution_count": null,
      "outputs": []
    },
    {
      "cell_type": "markdown",
      "metadata": {},
      "source": [
        "#### 5. Check Correct Column Types\n",
        "The following check the data types for each column to ensure the data types match our expectations.\n"
      ],
      "id": "0a44ef9e"
    },
    {
      "cell_type": "code",
      "metadata": {},
      "source": [
        "schema = pa.DataFrameSchema(\n",
        "    {\n",
        "        \"fixed_acidity\": pa.Column(float),\n",
        "        \"volatile_acidity\": pa.Column(float),\n",
        "        \"citric_acid\": pa.Column(float),\n",
        "        \"residual_sugar\": pa.Column(float),\n",
        "        \"chlorides\": pa.Column(float),\n",
        "        \"free_sulfur_dioxide\": pa.Column(float),\n",
        "        \"total_sulfur_dioxide\": pa.Column(float),\n",
        "        \"density\": pa.Column(float),\n",
        "        \"pH\": pa.Column(float),\n",
        "        \"sulphates\": pa.Column(float),\n",
        "        \"alcohol\": pa.Column(float),\n",
        "        \"quality\": pa.Column(int),\n",
        "        \"color\": pa.Column(str), \n",
        "    }\n",
        ")\n",
        "\n",
        "try:\n",
        "    schema.validate(wine, lazy=True)\n",
        "    print(\"Test passed!\")\n",
        "except pa.errors.SchemaErrors as e:\n",
        "    print(\"Test failed:\", e)\n",
        "    print(\"Failure Details:\")\n",
        "    print(e.failure_cases)"
      ],
      "id": "af0b8099",
      "execution_count": null,
      "outputs": []
    },
    {
      "cell_type": "markdown",
      "metadata": {},
      "source": [
        "#### 5. Check Duplicate Observations\n",
        "The following will check if there are duplicate observations in the dataframe.\n"
      ],
      "id": "0c76366a"
    },
    {
      "cell_type": "code",
      "metadata": {},
      "source": [
        "# Duplicate observation check\n",
        "schema = pa.DataFrameSchema(\n",
        "    checks=[\n",
        "        pa.Check(lambda df: ~df.duplicated().any(), error=\"Duplicate rows found.\") \n",
        "    ]\n",
        ")\n",
        "\n",
        "try:\n",
        "    schema.validate(wine, lazy=True)\n",
        "    print(\"Test passed!\")\n",
        "except pa.errors.SchemaErrors as e:\n",
        "    print(\"Test failed:\")\n",
        "    failed_result = pd.DataFrame(e.failure_cases)\n",
        "    print(failed_result.to_string())"
      ],
      "id": "317c90f2",
      "execution_count": null,
      "outputs": []
    },
    {
      "cell_type": "markdown",
      "metadata": {},
      "source": [
        "For this test, the result shows that we have duplicate rows. To handle this issue, we will generate further test and disscussion later about these part of data duplication. \n",
        "\n",
        "#### 6. Check Outliers or Anomalous Values\n",
        "The following will check if there are outliers in the dataframe that are not inside the expected ranges. We have decided the ranges using the explanations below:\n",
        "\n",
        "`fixed_acidity`: it should be a float between 3.5 and 16. Extreme values outside this range are rare and could indicate measurement errors or outliers.\n",
        "\n",
        "`volatile_acidity` : a float column between 0.08 and 1.6. Higher values indicate excessive volatile acidity, which could be abnormal for wine quality.\n",
        "\n",
        "`citric_acid`: a float column between 0 and 1. Citric acid levels rarely exceed 1. A value of 0 is acceptable but beyond 1.0 may suggest data anomalies. \n",
        "\n",
        "`residual_sugar`: a float column between 0.5 and 66. While white wines have higher residual sugar, 66 is a reasonable upper limit based on the observed range. Values exceeding this are highly unusual and likely outliers.\n",
        "\n",
        "`chlorides`: a float column between 0.01 and 0.7. The majority of chloride values are tightly distributed below 0.7.\n",
        "\n",
        "`free_sulfur_dioxide`: a float column between 0 and 200. Values beyond 200 are rare and not typical in wines. \n",
        "\n",
        "`total_sulfur_dioxide`: a float column between 0 and 400. Total sulfur dioxide values above 400 are uncommon and may indicate anomalies in the data or unusual winemaking practices.\n",
        "\n",
        "`density`: a float column between 0.985 and 1.04. Density for wines typically lies within this range.\n",
        "\n",
        "`pH`: a float column between 2.5 and 4. Wine pH is generally between 2.5 and 4.0, consistent with its acidic nature. Values outside this range are rare and potentially invalid. \n",
        "\n",
        "`sulphates`: a float column between 0.2 and 1.8. Most sulphates fall within this range; higher values indicate unusual conditions. Lower values below 0.2 are atypical and may require closer inspection.\n",
        "\n",
        "`alcohol`: a float column between 8 and 15. Wine alcohol content is normally within 8% to 15%. Values outside this range suggest non-standard wine or errors in measurement.\n",
        "\n",
        "`quality`: a float column between 3 and 9. The wine quality score ranges from 3 to 9 based on the dataset. \n"
      ],
      "id": "e2426fdf"
    },
    {
      "cell_type": "code",
      "metadata": {},
      "source": [
        "# Column types and outliers check\n",
        "schema = pa.DataFrameSchema(\n",
        "    {\n",
        "        \"fixed_acidity\": pa.Column(float, pa.Check.between(3.5, 16)),\n",
        "        \"volatile_acidity\": pa.Column(float, pa.Check.between(0.08, 1.6)),\n",
        "        \"citric_acid\": pa.Column(float, pa.Check.between(0.0, 1)),\n",
        "        \"residual_sugar\": pa.Column(float, pa.Check.between(0.5, 66)),\n",
        "        \"chlorides\": pa.Column(float, pa.Check.between(0.01, 0.7)),\n",
        "        \"free_sulfur_dioxide\": pa.Column(float, pa.Check.between(0, 200)),\n",
        "        \"total_sulfur_dioxide\": pa.Column(float, pa.Check.between(0, 400)),\n",
        "        \"density\": pa.Column(float, pa.Check.between(0.985, 1.04)),\n",
        "        \"pH\": pa.Column(float, pa.Check.between(2.5, 4.0)),\n",
        "        \"sulphates\": pa.Column(float, pa.Check.between(0.2, 1.8)),\n",
        "        \"alcohol\": pa.Column(float, pa.Check.between(8.0, 15.0)),\n",
        "        \"quality\": pa.Column(int, pa.Check.between(3, 9)),\n",
        "        \"color\": pa.Column(str, pa.Check.isin([\"red\", \"white\"]))\n",
        "    }\n",
        ")\n",
        "\n",
        "try:\n",
        "    schema.validate(wine, lazy = True)\n",
        "    print(\"Test pass!\")\n",
        "except pa.errors.SchemaErrors as e:\n",
        "    print(\"Test failed:\")\n",
        "    failed_result = pd.DataFrame(e.failure_cases)\n",
        "    print(failed_result.to_string())\n"
      ],
      "id": "25338ff5",
      "execution_count": null,
      "outputs": []
    },
    {
      "cell_type": "markdown",
      "metadata": {},
      "source": [
        "Based on the test result, we do have several outliers for feature `citric_acid`, `chlorides`, `free_sulfur_dioxid`, `total_sulfur_dioxide`, `pH`, and `sulphates`. The outliers exhibit minimal deviations from the predefined thresholds and represent only a small fraction of the total dataset. These slight exceedances are unlikely to significantly influence the analysis or model performance. Therefore, we will ignore them in this case.\n",
        "\n",
        "#### 7. Check Category levels\n",
        "The following will check if categorical feature has any string mismatch or singla value. For this data set, there's one categorical feature `color`, which should have levels of \"red\" and \"white\".\n"
      ],
      "id": "0c543d36"
    },
    {
      "cell_type": "code",
      "metadata": {},
      "source": [
        "# Category levels check\n",
        "schema = pa.DataFrameSchema(\n",
        "    {\n",
        "        \"color\": pa.Column(str, pa.Check.isin([\"red\", \"white\"]))\n",
        "    }\n",
        ")\n",
        "\n",
        "try:\n",
        "    schema.validate(wine, lazy = True)\n",
        "    print(\"Test pass!\")\n",
        "except pa.errors.SchemaErrors as e:\n",
        "    print(\"Test fail:\", e)\n",
        "    print(\"Failure Details:\")\n",
        "    print(e.failure_cases)"
      ],
      "id": "0cd4eff9",
      "execution_count": null,
      "outputs": []
    },
    {
      "cell_type": "markdown",
      "metadata": {},
      "source": [
        "### Exploratory Data Analysis\n",
        "\n",
        "To examine the data, we first looked at the data types of columns we will be working with: all features are numeric without any null values. Next, in order to select features for modelling, we examined each feature's distribution in respect to color and feaature correlations.\n"
      ],
      "id": "03f9e4a2"
    },
    {
      "cell_type": "code",
      "metadata": {},
      "source": [
        "wine = wine.drop_duplicates()\n",
        "# split data into train and test for EDA \n",
        "train_df, test_df = train_test_split(wine, test_size=0.3, shuffle=True, random_state=123)"
      ],
      "id": "427d05a1",
      "execution_count": null,
      "outputs": []
    },
    {
      "cell_type": "code",
      "metadata": {},
      "source": [
        "print(\"Feature Datatypes\\n\")\n",
        "print(train_df.info())"
      ],
      "id": "9e2e87d0",
      "execution_count": null,
      "outputs": []
    },
    {
      "cell_type": "code",
      "metadata": {},
      "source": [
        "print(\"Summary Statistics\\n\")\n",
        "train_df.describe()"
      ],
      "id": "ceb87ba3",
      "execution_count": null,
      "outputs": []
    },
    {
      "cell_type": "code",
      "metadata": {},
      "source": [
        "aly.alt.data_transformers.enable('vegafusion')\n",
        "\n",
        "print(\"Figure 1: Distribution of Features per Target Class\")\n",
        "aly.dist(train_df, color = \"color\")"
      ],
      "id": "0f745d95",
      "execution_count": null,
      "outputs": []
    },
    {
      "cell_type": "code",
      "metadata": {},
      "source": [
        "print(\"Figure 2: Correlation between Wine Color PRediction Features\\n\")\n",
        "aly.corr(train_df)"
      ],
      "id": "c0118614",
      "execution_count": null,
      "outputs": []
    },
    {
      "cell_type": "markdown",
      "metadata": {},
      "source": [
        "The class distributions for all predictors across all measurements show some overlap but display noticeable differences in their central tendencies and variability. The quality feature appears to have a tri-modal distribution and does not exhibit distinct differences based on the target class. However, it could still offer valuable predictive insights through interactions with other features. Therefore, we decided to build our predictive model with all the available features. <br>\n",
        "#### We will next check, feature-feature correlations and feature-target correlations to check for any anomalous correlations and prevent multicolinearity and overfitting in our model.\n",
        "If any anomalous correlations are found, the script will throw and error and we will examine the features in question and determine whether the best plan of action would be dropping the feature or not.\n"
      ],
      "id": "795401f6"
    },
    {
      "cell_type": "code",
      "metadata": {},
      "source": [
        "# imports for correlation anomality validations\n",
        "from deepchecks.tabular import Dataset\n",
        "from deepchecks.tabular.checks import FeatureLabelCorrelation, FeatureFeatureCorrelation, PredictionDrift\n",
        "\n",
        "wine_train_ds = Dataset(train_df, label=\"color\", cat_features=[])\n",
        "wine_test_ds = Dataset(test_df, label=\"color\", cat_features=[])\n",
        "\n",
        "check_feat_lab_corr = FeatureLabelCorrelation().add_condition_feature_pps_less_than(0.8)\n",
        "check_feat_lab_corr_result = check_feat_lab_corr.run(dataset=wine_train_ds)\n",
        "\n",
        "if not check_feat_lab_corr_result.passed_conditions():\n",
        "    raise ValueError(\"Feature-Label correlation exceeds the maximum acceptable threshold.\")\n",
        "\n",
        "check_feat_feat_corr = FeatureFeatureCorrelation().add_condition_max_number_of_pairs_above_threshold(threshold = 0.8, n_pairs = 0)\n",
        "check_feat_feat_corr_result = check_feat_feat_corr.run(dataset=wine_train_ds)\n",
        "\n",
        "if not check_feat_feat_corr_result.passed_conditions():\n",
        "    raise ValueError(\"Feature-feature correlation exceeds the maximum acceptable threshold.\")"
      ],
      "id": "5d7f58d1",
      "execution_count": null,
      "outputs": []
    },
    {
      "cell_type": "code",
      "metadata": {},
      "source": [
        "# imports for modelling\n",
        "from sklearn.linear_model import LogisticRegression\n",
        "from sklearn.pipeline import make_pipeline\n",
        "from sklearn.metrics import (\n",
        "    ConfusionMatrixDisplay, PrecisionRecallDisplay, \n",
        "    make_scorer, recall_score, precision_score, f1_score\n",
        ")\n",
        "from sklearn.compose import make_column_transformer\n",
        "from sklearn.preprocessing import StandardScaler, OrdinalEncoder\n",
        "from sklearn.model_selection import (\n",
        "    cross_validate,\n",
        "    RandomizedSearchCV,\n",
        ")\n",
        "from scipy.stats import loguniform"
      ],
      "id": "82d364ed",
      "execution_count": null,
      "outputs": []
    },
    {
      "cell_type": "code",
      "metadata": {},
      "source": [
        "# train_df, test_df = train_test_split(wine, test_size=0.3, shuffle=True, random_state=123)\n",
        "train_df.head()"
      ],
      "id": "797eca3b",
      "execution_count": null,
      "outputs": []
    },
    {
      "cell_type": "code",
      "metadata": {},
      "source": [
        "X_train = train_df.drop(columns=[\"color\"])\n",
        "X_test = test_df.drop(columns=[\"color\"])\n",
        "y_train = train_df[\"color\"]\n",
        "y_test = test_df[\"color\"]"
      ],
      "id": "4c15a9c6",
      "execution_count": null,
      "outputs": []
    },
    {
      "cell_type": "code",
      "metadata": {},
      "source": [
        "# Transformations for different scales of the features\n",
        "categorical_features = [\"color\"]\n",
        "ordinal_features = [\"quality\"]\n",
        "numerical_features = [col for col in wine.columns if col != \"color\" and col != \"quality\"]\n",
        "\n",
        "preprocessor = make_column_transformer(\n",
        "    (OrdinalEncoder(dtype=int), ordinal_features),\n",
        "    (StandardScaler(), numerical_features),\n",
        "    remainder='passthrough' \n",
        ")"
      ],
      "id": "d9ba87f7",
      "execution_count": null,
      "outputs": []
    },
    {
      "cell_type": "code",
      "metadata": {},
      "source": [
        "pipe = make_pipeline(\n",
        "    preprocessor, \n",
        "    LogisticRegression(random_state=123, max_iter=1000, class_weight=\"balanced\"),\n",
        ")\n",
        "pipe.fit(X_train, y_train)"
      ],
      "id": "4767f048",
      "execution_count": null,
      "outputs": []
    },
    {
      "cell_type": "code",
      "metadata": {},
      "source": [
        "scoring = {\n",
        "    \"accuracy\": 'accuracy',\n",
        "    'precision': make_scorer(precision_score, pos_label = 'red'),\n",
        "    'recall': make_scorer(recall_score, pos_label = 'red'),\n",
        "    'f1': make_scorer(f1_score, pos_label = 'red')\n",
        "}\n",
        "\n",
        "# Running cross validation on default model\n",
        "pd.DataFrame(\n",
        "    cross_validate(pipe, X_train, y_train, return_train_score = True, cv = 5, scoring = scoring)\n",
        ").agg(['mean', 'std']).round(3).T"
      ],
      "id": "1042ad3f",
      "execution_count": null,
      "outputs": []
    },
    {
      "cell_type": "code",
      "metadata": {},
      "source": [
        "# Hyperparameter optimization\n",
        "param_grid = {\n",
        "    \"logisticregression__C\": loguniform(1e-1, 10)\n",
        "}\n",
        "\n",
        "random_search = RandomizedSearchCV(\n",
        "    pipe,\n",
        "    param_grid,\n",
        "    n_iter = 10,\n",
        "    verbose = 1,\n",
        "    n_jobs = -1,\n",
        "    random_state = 123,\n",
        "    return_train_score = True, \n",
        "    scoring = make_scorer(f1_score, pos_label = 'red')\n",
        ")\n",
        "random_search.fit(X_train, y_train)"
      ],
      "id": "0777d045",
      "execution_count": null,
      "outputs": []
    },
    {
      "cell_type": "code",
      "metadata": {},
      "source": [
        "pd.DataFrame(random_search.cv_results_)[\n",
        "    [\n",
        "        \"mean_train_score\",\n",
        "        \"mean_test_score\",\n",
        "        \"param_logisticregression__C\",\n",
        "        \"mean_fit_time\",\n",
        "        \"rank_test_score\"\n",
        "    ]\n",
        "].set_index(\"rank_test_score\").sort_index().T"
      ],
      "id": "97d5c8f1",
      "execution_count": null,
      "outputs": []
    },
    {
      "cell_type": "code",
      "metadata": {},
      "source": [
        "pd.DataFrame([random_search.best_params_])"
      ],
      "id": "5b92ac87",
      "execution_count": null,
      "outputs": []
    },
    {
      "cell_type": "markdown",
      "metadata": {},
      "source": [
        "#### To validate the expected distribution of the target variable, we will use the Prediction Drift check to compare the predicted distributions of the target variable between the training and testing datasets. This helps identify whether the model's predictions are consistent across these datasets or if there is a significant drift.\n"
      ],
      "id": "e8735271"
    },
    {
      "cell_type": "code",
      "metadata": {},
      "source": [
        "target_drift_check = PredictionDrift()\n",
        "\n",
        "expected_distribution = {\"red\": 0.25, \"white\": 0.75} \n",
        "actual_distribution = train_df['color'].value_counts(normalize=True).to_dict()\n",
        "\n",
        "for cat, prob in expected_distribution.items():\n",
        "    if abs(actual_distribution.get(cat) - prob) > 0.1:\n",
        "        print(f\"Class '{cat}' deviates significantly from the expected distribution {prob}.\")\n",
        "\n",
        "target_dist_result = target_drift_check.run(\n",
        "    wine_train_ds, \n",
        "    wine_test_ds, \n",
        "    model= random_search.best_estimator_\n",
        ")\n",
        "pd.DataFrame([target_dist_result.reduce_output()])"
      ],
      "id": "57feaef9",
      "execution_count": null,
      "outputs": []
    },
    {
      "cell_type": "markdown",
      "metadata": {},
      "source": [
        "The validation check is successful, and we can see that the model’s predictions on the training and testing datasets are consistent (as per low Prediction Dirift Socre) and align with the expected target distribution. The actual and predicted target class distributions match the expected proportions, ensuring that the dataset retains its intended balance of classes.\n",
        "\n",
        "----\n",
        "The analysis was performed using Python (Van Rossum and Drake, 2009) and the following libraries: requests (Reitz, 2011) for data retrieval, zipfile (Van Rossum and Drake, 2009) for handling compressed files, numpy (Harris et al., 2020) for numerical operations, pandas (McKinney, 2010) for data manipulation, altair (VanderPlas, 2018) for data visualization, and scikit-learn (Pedregosa et al., 2011) for model implementation and evaluation.\n",
        "\n",
        "___\n",
        "### RESULTS\n",
        "___\n"
      ],
      "id": "7e7134f9"
    },
    {
      "cell_type": "code",
      "metadata": {},
      "source": [
        "print(\"Accuracy score on test data\", random_search.score(X_test, y_test))\n",
        "\n",
        "# print confusion matrix\n",
        "ConfusionMatrixDisplay.from_estimator(\n",
        "    random_search,\n",
        "    X_test,\n",
        "    y_test,\n",
        "    values_format=\"d\"\n",
        ");"
      ],
      "id": "7d6b60ed",
      "execution_count": null,
      "outputs": []
    },
    {
      "cell_type": "code",
      "metadata": {},
      "source": [
        "PrecisionRecallDisplay.from_estimator(\n",
        "    random_search,\n",
        "    X_test,\n",
        "    y_test,\n",
        "    pos_label=\"red\",\n",
        "    name='wine_quality', \n",
        ")"
      ],
      "id": "a9663140",
      "execution_count": null,
      "outputs": []
    },
    {
      "cell_type": "markdown",
      "metadata": {},
      "source": [
        "___\n",
        "### DISCUSSION\n",
        "___\n",
        "From the results above, we see that the logistic regression with balanced class weight performs very well in the validation set as it scores more than 0.98 for all metrics, showing both a high performance in accuracy and much less classification bias due to very high recall and precision scores. Since the validation accuracy score is very high (>0.994), we decide to do a further randomized search cross-validation using the F1 score to find an optimized hyperparameter C that can minimize our classification bias.  \n",
        "\n",
        "Using the optimized model on the test data, we see that the model has a high accuracy score as well (0.985). Moreover, from the confusion matrix, we see that there are very few false positives (false red) and false negatives (false white) compared to the true ones. This implies that the recall and precision scores are near 1 on the test data. This is further supported by the precision-recall curve as the average precision is 0.99 and the precision score maintains constantly very close to 1 when adjusting the threshold in the model.  \n",
        "\n",
        "With the results being near perfect with the predictions on the test data, this is out of our expectations as we would expect there will be a more flawed prediction that will not perform as great in both recall and precision in general (especially not when both recall and precision are higher than 0.98). \n",
        "\n",
        "The near perfect scores in the test data suggest that our model will probably do a great job in predicting the wine type given any new data. However, we also have to bear in mind that the possibility that the model might not perform as well on actual unseen data. These very high scores are quite alarming that we might have to worry that it somehow overfits on both our train and test data and cannot generalize over new unseen data.  \n",
        "\n",
        "___\n",
        "### REFERENCES\n",
        "___\n",
        "\n",
        "Wine Quality [Dataset]. UCI Machine Learning Repository. https://doi.org/10.24432/C56S3T.\n",
        "\n",
        "Dua, Dheeru, and Casey Graff. 2017. “UCI Machine Learning Repository.” University of California, Irvine, School of Information; Computer Sciences. http://archive.ics.uci.edu/ml.\n",
        "\n",
        "Harris, C.R. et al., 2020. Array programming with NumPy. Nature, 585, pp.357–362.\n",
        "\n",
        "Jed Wing, Max Kuhn. Contributions from, Steve Weston, Andre Williams, Chris Keefer, Allan Engelhardt, Tony Cooper, Zachary Mayer, et al. 2019. Caret: Classification and Regression Training. https://CRAN.R-project.org/package=caret.\n",
        "\n",
        "Reitz, Kenneth. 2011. Requests: HTTP for Humans. https://requests.readthedocs.io/en/master/.\n",
        "\n",
        "VanderPlas, J. et al., 2018. Altair: Interactive statistical visualizations for python. Journal of open source software, 3(32), p.1057.\n",
        "\n",
        "Van Rossum, Guido, and Fred L. Drake. 2009. Python 3 Reference Manual. Scotts Valley, CA: CreateSpace.\n"
      ],
      "id": "788d0b0b"
    }
  ],
  "metadata": {
    "kernelspec": {
      "name": "python3",
      "language": "python",
      "display_name": "Python 3 (ipykernel)",
      "path": "/opt/conda/share/jupyter/kernels/python3"
    }
  },
  "nbformat": 4,
  "nbformat_minor": 5
}